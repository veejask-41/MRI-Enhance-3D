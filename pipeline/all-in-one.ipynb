{
 "cells": [
  {
   "cell_type": "code",
   "execution_count": 6,
   "metadata": {},
   "outputs": [],
   "source": [
    "import nibabel as nib\n",
    "import numpy as np\n",
    "import os\n",
    "import glob\n",
    "import SimpleITK as sitk"
   ]
  },
  {
   "cell_type": "code",
   "execution_count": 4,
   "metadata": {},
   "outputs": [],
   "source": [
    "base_dir = r\"../DataSet\"\n",
    "updated_dir = r\"../Updated-DataSet\"\n",
    "\n",
    "# Use glob to find all files in the directory\n",
    "file_paths = glob.glob(os.path.join(base_dir, '*'))\n",
    "\n",
    "# Loop through each file and construct the file path\n",
    "for file_path in file_paths:\n",
    "    # Extract the file name from the file path\n",
    "    file_name = os.path.basename(file_path)\n",
    "    # Load the nifti file\n",
    "    nib_file = nib.load(file_path)\n",
    "    # Extract the header from the nifti file\n",
    "    header = nib_file.header\n",
    "    # Extract the voxel spacing from the header\n",
    "    voxel_spacing = header.get_zooms()\n",
    "    # Extract the qoffsets from the header\n",
    "    qoffset_x = header['qoffset_x']\n",
    "    qoffset_y = header['qoffset_y']\n",
    "    qoffset_z = header['qoffset_z']\n",
    "    # Create a new affine matrix\n",
    "    new_affine = np.array([\n",
    "    [voxel_spacing[0], 0, 0, qoffset_x],\n",
    "    [0, voxel_spacing[1], 0, qoffset_y],\n",
    "    [0, 0, voxel_spacing[2], qoffset_z],\n",
    "    [0, 0, 0, 1]\n",
    "    ])\n",
    "\n",
    "    # Override the affine matrix in the header\n",
    "    new_header = header.copy()\n",
    "\n",
    "    new_header['srow_x'] = new_affine[0,:]\n",
    "    new_header['srow_y'] = new_affine[1,:]\n",
    "    new_header['srow_z'] = new_affine[2,:]\n",
    "\n",
    "\n",
    "    # Create new file using the updated affine matrix\n",
    "    updated_img = nib.Nifti1Image(nib_file.get_fdata(), new_affine, new_header)\n",
    "    nib.save(updated_img, os.path.join(updated_dir, \"updated_\" + file_name))\n",
    "\n",
    "\n"
   ]
  },
  {
   "cell_type": "code",
   "execution_count": 5,
   "metadata": {},
   "outputs": [],
   "source": [
    "updated_dir = r\"../Updated-DataSet\"\n",
    "downsampled_dir = r\"../Downsampled-DataSet\"\n",
    "\n",
    "# Use glob to find all files in the directory\n",
    "file_paths = glob.glob(os.path.join(updated_dir, '*'))\n",
    "\n",
    "# Loop through each file and construct the file path\n",
    "for file_path in file_paths:\n",
    "    # Extract the file name from the file path\n",
    "    file_name = os.path.basename(file_path)\n",
    "    # Load the nifti file\n",
    "    nib_file = nib.load(file_path)\n",
    "\n",
    "    # Downsample the images\n",
    "    downsampled_img = nib_file.slicer[::5,:,:]\n",
    "\n",
    "    # Save the downsampled images\n",
    "    nib.save(downsampled_img, os.path.join(downsampled_dir, \"downsampled_\" + file_name))"
   ]
  },
  {
   "cell_type": "code",
   "execution_count": 7,
   "metadata": {},
   "outputs": [],
   "source": [
    "def resample_volume(volumne_path=\"\", interpolator=sitk.sitkLinear, new_spacing=None, output_path=\"\"):\n",
    "    if new_spacing is None:\n",
    "        new_spacing = [1, 1, 1]\n",
    "\n",
    "    voulume = sitk.ReadImage(volumne_path, sitk.sitkFloat32)\n",
    "    original_spacing = voulume.GetSpacing()\n",
    "    original_size = voulume.GetSize()\n",
    "    new_size = [int(round(osz*ospc/nspc)) for osz, ospc, nspc in zip(original_size, original_spacing, new_spacing)]\n",
    "    resample_volume = sitk.Resample(voulume, new_size, sitk.Transform(), interpolator, voulume.GetOrigin(), new_spacing, voulume.GetDirection(), 0.0, voulume.GetPixelID())\n",
    "\n",
    "    sitk.WriteImage(resample_volume, output_path)"
   ]
  },
  {
   "cell_type": "code",
   "execution_count": 8,
   "metadata": {},
   "outputs": [],
   "source": [
    "# Resample the updated files\n",
    "input_dir = r\"../Updated-DataSet\"\n",
    "output_dir = r\"../Resampled-DataSet/Original\"\n",
    "\n",
    "# Use glob to find all files in the directory\n",
    "file_paths = glob.glob(os.path.join(input_dir, '*'))\n",
    "\n",
    "# Loop through each file and construct the file path\n",
    "for file_path in file_paths:\n",
    "    # Extract the file name from the file path\n",
    "    file_name = os.path.basename(file_path)\n",
    "    # Resample the images\n",
    "    resample_volume(file_path, output_path=os.path.join(output_dir, file_name))"
   ]
  },
  {
   "cell_type": "code",
   "execution_count": 11,
   "metadata": {},
   "outputs": [],
   "source": [
    "# Resample the updated files\n",
    "input_dir = r\"../Downsampled-DataSet\"\n",
    "output_dir = r\"../Resampled-DataSet/Downsampled\"\n",
    "\n",
    "# Use glob to find all files in the directory\n",
    "file_paths = glob.glob(os.path.join(input_dir, '*'))\n",
    "\n",
    "# Loop through each file and construct the file path\n",
    "for file_path in file_paths:\n",
    "    # Extract the file name from the file path\n",
    "    file_name = os.path.basename(file_path)\n",
    "    # Resample the images\n",
    "    resample_volume(file_path, output_path=os.path.join(output_dir, file_name))"
   ]
  },
  {
   "cell_type": "code",
   "execution_count": null,
   "metadata": {},
   "outputs": [],
   "source": []
  }
 ],
 "metadata": {
  "kernelspec": {
   "display_name": "Python 3",
   "language": "python",
   "name": "python3"
  },
  "language_info": {
   "codemirror_mode": {
    "name": "ipython",
    "version": 3
   },
   "file_extension": ".py",
   "mimetype": "text/x-python",
   "name": "python",
   "nbconvert_exporter": "python",
   "pygments_lexer": "ipython3",
   "version": "3.11.5"
  }
 },
 "nbformat": 4,
 "nbformat_minor": 2
}
