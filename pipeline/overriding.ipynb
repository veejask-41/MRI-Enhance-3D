{
 "cells": [
  {
   "cell_type": "markdown",
   "metadata": {},
   "source": [
    "# overriding the header parameters and remove the rotation from affine matrix"
   ]
  },
  {
   "cell_type": "markdown",
   "metadata": {},
   "source": [
    "* remove the rotation from the header and only keep scaling and translation"
   ]
  },
  {
   "cell_type": "markdown",
   "metadata": {},
   "source": [
    "## 1. import packages"
   ]
  },
  {
   "cell_type": "code",
   "execution_count": 2,
   "metadata": {},
   "outputs": [],
   "source": [
    "import nibabel as nib\n",
    "import numpy as np\n",
    "import os\n",
    "import tabulate"
   ]
  },
  {
   "cell_type": "markdown",
   "metadata": {},
   "source": [
    "## 2. load file explore"
   ]
  },
  {
   "cell_type": "code",
   "execution_count": 5,
   "metadata": {},
   "outputs": [
    {
     "data": {
      "text/plain": [
       "'../sub-HC001_ses-01_acq-mp2rage_T1map.nii.gz'"
      ]
     },
     "execution_count": 5,
     "metadata": {},
     "output_type": "execute_result"
    }
   ],
   "source": [
    "base_dir = r\"../\"\n",
    "file_name = r\"sub-HC001_ses-01_acq-mp2rage_T1map.nii.gz\"\n",
    "file_path = os.path.join(base_dir, file_name)\n",
    "file_path"
   ]
  },
  {
   "cell_type": "code",
   "execution_count": 6,
   "metadata": {},
   "outputs": [],
   "source": [
    "nib_file = nib.load(file_path)"
   ]
  },
  {
   "cell_type": "code",
   "execution_count": 7,
   "metadata": {},
   "outputs": [
    {
     "name": "stdout",
     "output_type": "stream",
     "text": [
      "<class 'nibabel.nifti1.Nifti1Header'> object, endian='<'\n",
      "sizeof_hdr      : 348\n",
      "data_type       : b''\n",
      "db_name         : b''\n",
      "extents         : 0\n",
      "session_error   : 0\n",
      "regular         : b'r'\n",
      "dim_info        : 0\n",
      "dim             : [  3 240 320 320   1   1   1   1]\n",
      "intent_p1       : 0.0\n",
      "intent_p2       : 0.0\n",
      "intent_p3       : 0.0\n",
      "intent_code     : none\n",
      "datatype        : float32\n",
      "bitpix          : 32\n",
      "slice_start     : 0\n",
      "pixdim          : [1.  0.8 0.8 0.8 0.  0.  0.  0. ]\n",
      "vox_offset      : 0.0\n",
      "scl_slope       : nan\n",
      "scl_inter       : nan\n",
      "slice_end       : 0\n",
      "slice_code      : unknown\n",
      "xyzt_units      : 10\n",
      "cal_max         : 0.0\n",
      "cal_min         : 0.0\n",
      "slice_duration  : 0.0\n",
      "toffset         : 0.0\n",
      "glmax           : 0\n",
      "glmin           : 0\n",
      "descrip         : b'6.0.0'\n",
      "aux_file        : b''\n",
      "qform_code      : scanner\n",
      "sform_code      : unknown\n",
      "quatern_b       : -0.06856307\n",
      "quatern_c       : -0.015582562\n",
      "quatern_d       : -0.019387364\n",
      "qoffset_x       : -92.05724\n",
      "qoffset_y       : -107.88861\n",
      "qoffset_z       : -116.848816\n",
      "srow_x          : [0. 0. 0. 0.]\n",
      "srow_y          : [0. 0. 0. 0.]\n",
      "srow_z          : [0. 0. 0. 0.]\n",
      "intent_name     : b''\n",
      "magic           : b'n+1'\n"
     ]
    }
   ],
   "source": [
    "header = nib_file.header\n",
    "print(header)"
   ]
  },
  {
   "cell_type": "markdown",
   "metadata": {},
   "source": [
    "## 3. extract voxel spacing and qoffsets"
   ]
  },
  {
   "cell_type": "code",
   "execution_count": 8,
   "metadata": {},
   "outputs": [
    {
     "data": {
      "text/plain": [
       "(0.8, 0.8, 0.8)"
      ]
     },
     "execution_count": 8,
     "metadata": {},
     "output_type": "execute_result"
    }
   ],
   "source": [
    "voxel_spacing = header.get_zooms()\n",
    "voxel_spacing"
   ]
  },
  {
   "cell_type": "code",
   "execution_count": 9,
   "metadata": {},
   "outputs": [
    {
     "name": "stdout",
     "output_type": "stream",
     "text": [
      "-92.05724 -107.88861 -116.848816\n"
     ]
    }
   ],
   "source": [
    "qoffset_x = header['qoffset_x']\n",
    "qoffset_y = header['qoffset_y']\n",
    "qoffset_z = header['qoffset_z']\n",
    "\n",
    "print(qoffset_x, qoffset_y, qoffset_z)"
   ]
  },
  {
   "cell_type": "markdown",
   "metadata": {},
   "source": [
    "## 4. create new affine"
   ]
  },
  {
   "cell_type": "code",
   "execution_count": 10,
   "metadata": {},
   "outputs": [
    {
     "data": {
      "text/plain": [
       "array([[   0.80000001,    0.        ,    0.        ,  -92.05724335],\n",
       "       [   0.        ,    0.80000001,    0.        , -107.88861084],\n",
       "       [   0.        ,    0.        ,    0.80000001, -116.84881592],\n",
       "       [   0.        ,    0.        ,    0.        ,    1.        ]])"
      ]
     },
     "execution_count": 10,
     "metadata": {},
     "output_type": "execute_result"
    }
   ],
   "source": [
    "new_affine = np.array([\n",
    "    [voxel_spacing[0], 0, 0, qoffset_x],\n",
    "    [0, voxel_spacing[1], 0, qoffset_y],\n",
    "    [0, 0, voxel_spacing[2], qoffset_z],\n",
    "    [0, 0, 0, 1]\n",
    "])\n",
    "\n",
    "new_affine"
   ]
  },
  {
   "cell_type": "markdown",
   "metadata": {},
   "source": [
    "## 5. override srow_* in header"
   ]
  },
  {
   "cell_type": "code",
   "execution_count": 11,
   "metadata": {},
   "outputs": [],
   "source": [
    "new_header = header.copy()"
   ]
  },
  {
   "cell_type": "code",
   "execution_count": 12,
   "metadata": {},
   "outputs": [],
   "source": [
    "new_header['srow_x'] = new_affine[0,:]\n",
    "new_header['srow_y'] = new_affine[1,:]\n",
    "new_header['srow_z'] = new_affine[2,:]"
   ]
  },
  {
   "cell_type": "code",
   "execution_count": 13,
   "metadata": {},
   "outputs": [
    {
     "name": "stdout",
     "output_type": "stream",
     "text": [
      "<class 'nibabel.nifti1.Nifti1Header'> object, endian='<'\n",
      "sizeof_hdr      : 348\n",
      "data_type       : b''\n",
      "db_name         : b''\n",
      "extents         : 0\n",
      "session_error   : 0\n",
      "regular         : b'r'\n",
      "dim_info        : 0\n",
      "dim             : [  3 240 320 320   1   1   1   1]\n",
      "intent_p1       : 0.0\n",
      "intent_p2       : 0.0\n",
      "intent_p3       : 0.0\n",
      "intent_code     : none\n",
      "datatype        : float32\n",
      "bitpix          : 32\n",
      "slice_start     : 0\n",
      "pixdim          : [1.  0.8 0.8 0.8 0.  0.  0.  0. ]\n",
      "vox_offset      : 0.0\n",
      "scl_slope       : nan\n",
      "scl_inter       : nan\n",
      "slice_end       : 0\n",
      "slice_code      : unknown\n",
      "xyzt_units      : 10\n",
      "cal_max         : 0.0\n",
      "cal_min         : 0.0\n",
      "slice_duration  : 0.0\n",
      "toffset         : 0.0\n",
      "glmax           : 0\n",
      "glmin           : 0\n",
      "descrip         : b'6.0.0'\n",
      "aux_file        : b''\n",
      "qform_code      : scanner\n",
      "sform_code      : unknown\n",
      "quatern_b       : -0.06856307\n",
      "quatern_c       : -0.015582562\n",
      "quatern_d       : -0.019387364\n",
      "qoffset_x       : -92.05724\n",
      "qoffset_y       : -107.88861\n",
      "qoffset_z       : -116.848816\n",
      "srow_x          : [  0.8       0.        0.      -92.05724]\n",
      "srow_y          : [   0.         0.8        0.      -107.88861]\n",
      "srow_z          : [   0.          0.          0.8      -116.848816]\n",
      "intent_name     : b''\n",
      "magic           : b'n+1'\n"
     ]
    }
   ],
   "source": [
    "print(new_header)"
   ]
  },
  {
   "cell_type": "markdown",
   "metadata": {},
   "source": [
    "## 6. create new file using new affine and new header"
   ]
  },
  {
   "cell_type": "code",
   "execution_count": 14,
   "metadata": {},
   "outputs": [],
   "source": [
    "updated_img = nib.Nifti1Image(nib_file.get_fdata(), new_affine, new_header)"
   ]
  },
  {
   "cell_type": "code",
   "execution_count": 15,
   "metadata": {},
   "outputs": [],
   "source": [
    "nib.save(updated_img, os.path.join(base_dir, \"updated_\" + file_name))"
   ]
  },
  {
   "cell_type": "markdown",
   "metadata": {},
   "source": [
    "## 7. load updated file and compare"
   ]
  },
  {
   "cell_type": "code",
   "execution_count": 16,
   "metadata": {},
   "outputs": [],
   "source": [
    "updated_file = nib.load(os.path.join(base_dir, \"updated_\" + file_name))"
   ]
  },
  {
   "cell_type": "code",
   "execution_count": 17,
   "metadata": {},
   "outputs": [
    {
     "data": {
      "text/html": [
       "<table>\n",
       "<tbody>\n",
       "<tr><td>sizeof_hdr    </td><td>348                                                                               </td><td>348                                                                               </td></tr>\n",
       "<tr><td>data_type     </td><td>b&#x27;&#x27;                                                                               </td><td>b&#x27;&#x27;                                                                               </td></tr>\n",
       "<tr><td>db_name       </td><td>b&#x27;&#x27;                                                                               </td><td>b&#x27;&#x27;                                                                               </td></tr>\n",
       "<tr><td>extents       </td><td>0                                                                                 </td><td>0                                                                                 </td></tr>\n",
       "<tr><td>session_error </td><td>0                                                                                 </td><td>0                                                                                 </td></tr>\n",
       "<tr><td>regular       </td><td>b&#x27;r&#x27;                                                                              </td><td>b&#x27;r&#x27;                                                                              </td></tr>\n",
       "<tr><td>dim_info      </td><td>0                                                                                 </td><td>0                                                                                 </td></tr>\n",
       "<tr><td>dim           </td><td>[3, 240, 320, 320, 1, 1, 1, 1]                                                    </td><td>[3, 240, 320, 320, 1, 1, 1, 1]                                                    </td></tr>\n",
       "<tr><td>intent_p1     </td><td>0.0                                                                               </td><td>0.0                                                                               </td></tr>\n",
       "<tr><td>intent_p2     </td><td>0.0                                                                               </td><td>0.0                                                                               </td></tr>\n",
       "<tr><td>intent_p3     </td><td>0.0                                                                               </td><td>0.0                                                                               </td></tr>\n",
       "<tr><td>intent_code   </td><td>0                                                                                 </td><td>0                                                                                 </td></tr>\n",
       "<tr><td>datatype      </td><td>16                                                                                </td><td>16                                                                                </td></tr>\n",
       "<tr><td>bitpix        </td><td>32                                                                                </td><td>32                                                                                </td></tr>\n",
       "<tr><td>slice_start   </td><td>0                                                                                 </td><td>0                                                                                 </td></tr>\n",
       "<tr><td>pixdim        </td><td>[1.0, 0.800000011920929, 0.800000011920929, 0.800000011920929, 0.0, 0.0, 0.0, 0.0]</td><td>[1.0, 0.800000011920929, 0.800000011920929, 0.800000011920929, 0.0, 0.0, 0.0, 0.0]</td></tr>\n",
       "<tr><td>vox_offset    </td><td>0.0                                                                               </td><td>0.0                                                                               </td></tr>\n",
       "<tr><td>scl_slope     </td><td>nan                                                                               </td><td>nan                                                                               </td></tr>\n",
       "<tr><td>scl_inter     </td><td>nan                                                                               </td><td>nan                                                                               </td></tr>\n",
       "<tr><td>slice_end     </td><td>0                                                                                 </td><td>0                                                                                 </td></tr>\n",
       "<tr><td>slice_code    </td><td>0                                                                                 </td><td>0                                                                                 </td></tr>\n",
       "<tr><td>xyzt_units    </td><td>10                                                                                </td><td>10                                                                                </td></tr>\n",
       "<tr><td>cal_max       </td><td>0.0                                                                               </td><td>0.0                                                                               </td></tr>\n",
       "<tr><td>cal_min       </td><td>0.0                                                                               </td><td>0.0                                                                               </td></tr>\n",
       "<tr><td>slice_duration</td><td>0.0                                                                               </td><td>0.0                                                                               </td></tr>\n",
       "<tr><td>toffset       </td><td>0.0                                                                               </td><td>0.0                                                                               </td></tr>\n",
       "<tr><td>glmax         </td><td>0                                                                                 </td><td>0                                                                                 </td></tr>\n",
       "<tr><td>glmin         </td><td>0                                                                                 </td><td>0                                                                                 </td></tr>\n",
       "<tr><td>descrip       </td><td>b&#x27;6.0.0&#x27;                                                                          </td><td>b&#x27;6.0.0&#x27;                                                                          </td></tr>\n",
       "<tr><td>aux_file      </td><td>b&#x27;&#x27;                                                                               </td><td>b&#x27;&#x27;                                                                               </td></tr>\n",
       "<tr><td>qform_code    </td><td>1                                                                                 </td><td>0                                                                                 </td></tr>\n",
       "<tr><td>sform_code    </td><td>0                                                                                 </td><td>2                                                                                 </td></tr>\n",
       "<tr><td>quatern_b     </td><td>-0.0685630664229393                                                               </td><td>0.0                                                                               </td></tr>\n",
       "<tr><td>quatern_c     </td><td>-0.015582562424242496                                                             </td><td>0.0                                                                               </td></tr>\n",
       "<tr><td>quatern_d     </td><td>-0.019387364387512207                                                             </td><td>0.0                                                                               </td></tr>\n",
       "<tr><td>qoffset_x     </td><td>-92.05724334716797                                                                </td><td>-92.05724334716797                                                                </td></tr>\n",
       "<tr><td>qoffset_y     </td><td>-107.88861083984375                                                               </td><td>-107.88861083984375                                                               </td></tr>\n",
       "<tr><td>qoffset_z     </td><td>-116.84881591796875                                                               </td><td>-116.84881591796875                                                               </td></tr>\n",
       "<tr><td>srow_x        </td><td>[0.0, 0.0, 0.0, 0.0]                                                              </td><td>[0.800000011920929, 0.0, 0.0, -92.05724334716797]                                 </td></tr>\n",
       "<tr><td>srow_y        </td><td>[0.0, 0.0, 0.0, 0.0]                                                              </td><td>[0.0, 0.800000011920929, 0.0, -107.88861083984375]                                </td></tr>\n",
       "<tr><td>srow_z        </td><td>[0.0, 0.0, 0.0, 0.0]                                                              </td><td>[0.0, 0.0, 0.800000011920929, -116.84881591796875]                                </td></tr>\n",
       "<tr><td>intent_name   </td><td>b&#x27;&#x27;                                                                               </td><td>b&#x27;&#x27;                                                                               </td></tr>\n",
       "<tr><td>magic         </td><td>b&#x27;n+1&#x27;                                                                            </td><td>b&#x27;n+1&#x27;                                                                            </td></tr>\n",
       "</tbody>\n",
       "</table>"
      ],
      "text/plain": [
       "'<table>\\n<tbody>\\n<tr><td>sizeof_hdr    </td><td>348                                                                               </td><td>348                                                                               </td></tr>\\n<tr><td>data_type     </td><td>b&#x27;&#x27;                                                                               </td><td>b&#x27;&#x27;                                                                               </td></tr>\\n<tr><td>db_name       </td><td>b&#x27;&#x27;                                                                               </td><td>b&#x27;&#x27;                                                                               </td></tr>\\n<tr><td>extents       </td><td>0                                                                                 </td><td>0                                                                                 </td></tr>\\n<tr><td>session_error </td><td>0                                                                                 </td><td>0                                                                                 </td></tr>\\n<tr><td>regular       </td><td>b&#x27;r&#x27;                                                                              </td><td>b&#x27;r&#x27;                                                                              </td></tr>\\n<tr><td>dim_info      </td><td>0                                                                                 </td><td>0                                                                                 </td></tr>\\n<tr><td>dim           </td><td>[3, 240, 320, 320, 1, 1, 1, 1]                                                    </td><td>[3, 240, 320, 320, 1, 1, 1, 1]                                                    </td></tr>\\n<tr><td>intent_p1     </td><td>0.0                                                                               </td><td>0.0                                                                               </td></tr>\\n<tr><td>intent_p2     </td><td>0.0                                                                               </td><td>0.0                                                                               </td></tr>\\n<tr><td>intent_p3     </td><td>0.0                                                                               </td><td>0.0                                                                               </td></tr>\\n<tr><td>intent_code   </td><td>0                                                                                 </td><td>0                                                                                 </td></tr>\\n<tr><td>datatype      </td><td>16                                                                                </td><td>16                                                                                </td></tr>\\n<tr><td>bitpix        </td><td>32                                                                                </td><td>32                                                                                </td></tr>\\n<tr><td>slice_start   </td><td>0                                                                                 </td><td>0                                                                                 </td></tr>\\n<tr><td>pixdim        </td><td>[1.0, 0.800000011920929, 0.800000011920929, 0.800000011920929, 0.0, 0.0, 0.0, 0.0]</td><td>[1.0, 0.800000011920929, 0.800000011920929, 0.800000011920929, 0.0, 0.0, 0.0, 0.0]</td></tr>\\n<tr><td>vox_offset    </td><td>0.0                                                                               </td><td>0.0                                                                               </td></tr>\\n<tr><td>scl_slope     </td><td>nan                                                                               </td><td>nan                                                                               </td></tr>\\n<tr><td>scl_inter     </td><td>nan                                                                               </td><td>nan                                                                               </td></tr>\\n<tr><td>slice_end     </td><td>0                                                                                 </td><td>0                                                                                 </td></tr>\\n<tr><td>slice_code    </td><td>0                                                                                 </td><td>0                                                                                 </td></tr>\\n<tr><td>xyzt_units    </td><td>10                                                                                </td><td>10                                                                                </td></tr>\\n<tr><td>cal_max       </td><td>0.0                                                                               </td><td>0.0                                                                               </td></tr>\\n<tr><td>cal_min       </td><td>0.0                                                                               </td><td>0.0                                                                               </td></tr>\\n<tr><td>slice_duration</td><td>0.0                                                                               </td><td>0.0                                                                               </td></tr>\\n<tr><td>toffset       </td><td>0.0                                                                               </td><td>0.0                                                                               </td></tr>\\n<tr><td>glmax         </td><td>0                                                                                 </td><td>0                                                                                 </td></tr>\\n<tr><td>glmin         </td><td>0                                                                                 </td><td>0                                                                                 </td></tr>\\n<tr><td>descrip       </td><td>b&#x27;6.0.0&#x27;                                                                          </td><td>b&#x27;6.0.0&#x27;                                                                          </td></tr>\\n<tr><td>aux_file      </td><td>b&#x27;&#x27;                                                                               </td><td>b&#x27;&#x27;                                                                               </td></tr>\\n<tr><td>qform_code    </td><td>1                                                                                 </td><td>0                                                                                 </td></tr>\\n<tr><td>sform_code    </td><td>0                                                                                 </td><td>2                                                                                 </td></tr>\\n<tr><td>quatern_b     </td><td>-0.0685630664229393                                                               </td><td>0.0                                                                               </td></tr>\\n<tr><td>quatern_c     </td><td>-0.015582562424242496                                                             </td><td>0.0                                                                               </td></tr>\\n<tr><td>quatern_d     </td><td>-0.019387364387512207                                                             </td><td>0.0                                                                               </td></tr>\\n<tr><td>qoffset_x     </td><td>-92.05724334716797                                                                </td><td>-92.05724334716797                                                                </td></tr>\\n<tr><td>qoffset_y     </td><td>-107.88861083984375                                                               </td><td>-107.88861083984375                                                               </td></tr>\\n<tr><td>qoffset_z     </td><td>-116.84881591796875                                                               </td><td>-116.84881591796875                                                               </td></tr>\\n<tr><td>srow_x        </td><td>[0.0, 0.0, 0.0, 0.0]                                                              </td><td>[0.800000011920929, 0.0, 0.0, -92.05724334716797]                                 </td></tr>\\n<tr><td>srow_y        </td><td>[0.0, 0.0, 0.0, 0.0]                                                              </td><td>[0.0, 0.800000011920929, 0.0, -107.88861083984375]                                </td></tr>\\n<tr><td>srow_z        </td><td>[0.0, 0.0, 0.0, 0.0]                                                              </td><td>[0.0, 0.0, 0.800000011920929, -116.84881591796875]                                </td></tr>\\n<tr><td>intent_name   </td><td>b&#x27;&#x27;                                                                               </td><td>b&#x27;&#x27;                                                                               </td></tr>\\n<tr><td>magic         </td><td>b&#x27;n+1&#x27;                                                                            </td><td>b&#x27;n+1&#x27;                                                                            </td></tr>\\n</tbody>\\n</table>'"
      ]
     },
     "execution_count": 17,
     "metadata": {},
     "output_type": "execute_result"
    }
   ],
   "source": [
    "header_original = nib_file.header.structarr\n",
    "header_sampled = updated_file.header.structarr\n",
    "\n",
    "header_params = nib_file.header.keys()\n",
    "\n",
    "compare = []\n",
    "for param in header_params:\n",
    "    compare.append([param, header_original[param].tolist(), header_sampled[param].tolist()])\n",
    "\n",
    "table = tabulate.tabulate(compare, tablefmt='html')\n",
    "\n",
    "table"
   ]
  },
  {
   "cell_type": "markdown",
   "metadata": {},
   "source": [
    "* the quartenian values are set to 0, which means no rotation"
   ]
  }
 ],
 "metadata": {
  "kernelspec": {
   "display_name": "Python 3",
   "language": "python",
   "name": "python3"
  },
  "language_info": {
   "codemirror_mode": {
    "name": "ipython",
    "version": 3
   },
   "file_extension": ".py",
   "mimetype": "text/x-python",
   "name": "python",
   "nbconvert_exporter": "python",
   "pygments_lexer": "ipython3",
   "version": "3.11.5"
  }
 },
 "nbformat": 4,
 "nbformat_minor": 2
}
