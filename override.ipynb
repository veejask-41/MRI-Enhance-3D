{
 "cells": [
  {
   "cell_type": "code",
   "execution_count": 1,
   "metadata": {},
   "outputs": [],
   "source": [
    "import nibabel as nib\n",
    "import numpy as  np\n",
    "import os"
   ]
  },
  {
   "cell_type": "code",
   "execution_count": 2,
   "metadata": {},
   "outputs": [],
   "source": [
    "img = nib.load('sub-HC001_ses-01_acq-mp2rage_T1map.nii.gz')"
   ]
  },
  {
   "cell_type": "code",
   "execution_count": 3,
   "metadata": {},
   "outputs": [
    {
     "data": {
      "text/plain": [
       "<nibabel.nifti1.Nifti1Header at 0x1b7698e4560>"
      ]
     },
     "execution_count": 3,
     "metadata": {},
     "output_type": "execute_result"
    }
   ],
   "source": [
    "img_header = img.header\n",
    "img_header"
   ]
  },
  {
   "cell_type": "code",
   "execution_count": 6,
   "metadata": {},
   "outputs": [
    {
     "name": "stdout",
     "output_type": "stream",
     "text": [
      "<class 'nibabel.nifti1.Nifti1Header'> object, endian='<'\n",
      "sizeof_hdr      : 348\n",
      "data_type       : b''\n",
      "db_name         : b''\n",
      "extents         : 0\n",
      "session_error   : 0\n",
      "regular         : b'r'\n",
      "dim_info        : 0\n",
      "dim             : [  3 240 320 320   1   1   1   1]\n",
      "intent_p1       : 0.0\n",
      "intent_p2       : 0.0\n",
      "intent_p3       : 0.0\n",
      "intent_code     : none\n",
      "datatype        : float32\n",
      "bitpix          : 32\n",
      "slice_start     : 0\n",
      "pixdim          : [1.  0.8 0.8 0.8 0.  0.  0.  0. ]\n",
      "vox_offset      : 0.0\n",
      "scl_slope       : nan\n",
      "scl_inter       : nan\n",
      "slice_end       : 0\n",
      "slice_code      : unknown\n",
      "xyzt_units      : 10\n",
      "cal_max         : 0.0\n",
      "cal_min         : 0.0\n",
      "slice_duration  : 0.0\n",
      "toffset         : 0.0\n",
      "glmax           : 0\n",
      "glmin           : 0\n",
      "descrip         : b'6.0.0'\n",
      "aux_file        : b''\n",
      "qform_code      : scanner\n",
      "sform_code      : unknown\n",
      "quatern_b       : -0.06856307\n",
      "quatern_c       : -0.015582562\n",
      "quatern_d       : -0.019387364\n",
      "qoffset_x       : -92.05724\n",
      "qoffset_y       : -107.88861\n",
      "qoffset_z       : -116.848816\n",
      "srow_x          : [0. 0. 0. 0.]\n",
      "srow_y          : [0. 0. 0. 0.]\n",
      "srow_z          : [0. 0. 0. 0.]\n",
      "intent_name     : b''\n",
      "magic           : b'n+1'\n"
     ]
    }
   ],
   "source": [
    "print(img_header)"
   ]
  },
  {
   "cell_type": "code",
   "execution_count": 5,
   "metadata": {},
   "outputs": [
    {
     "name": "stdout",
     "output_type": "stream",
     "text": [
      "-92.05724 -107.88861 -116.848816\n"
     ]
    }
   ],
   "source": [
    "# extract qoffsets as image origin\n",
    "\n",
    "qoffsets_x = img_header['qoffset_x']\n",
    "qoffsets_y = img_header['qoffset_y']\n",
    "qoffsets_z = img_header['qoffset_z']\n",
    "\n",
    "print(qoffsets_x, qoffsets_y, qoffsets_z)"
   ]
  },
  {
   "cell_type": "code",
   "execution_count": 8,
   "metadata": {},
   "outputs": [
    {
     "name": "stdout",
     "output_type": "stream",
     "text": [
      "[0.8 0.8 0.8]\n"
     ]
    }
   ],
   "source": [
    "# extracting the voxel spacing\n",
    "\n",
    "voxel_spacing = img_header['pixdim'][1:4]\n",
    "\n",
    "print(voxel_spacing)"
   ]
  },
  {
   "cell_type": "code",
   "execution_count": 9,
   "metadata": {},
   "outputs": [
    {
     "name": "stdout",
     "output_type": "stream",
     "text": [
      "[[   0.80000001    0.            0.          -92.05724335]\n",
      " [   0.            0.80000001    0.         -107.88861084]\n",
      " [   0.            0.            0.80000001 -116.84881592]\n",
      " [   0.            0.            0.            1.        ]]\n"
     ]
    }
   ],
   "source": [
    "# create new affine matrix \n",
    "\n",
    "affine = np.array([[voxel_spacing[0], 0, 0, qoffsets_x],[0, voxel_spacing[1], 0, qoffsets_y],[0, 0, voxel_spacing[2], qoffsets_z],[0, 0, 0, 1]])\n",
    "print(affine) "
   ]
  },
  {
   "cell_type": "code",
   "execution_count": 10,
   "metadata": {},
   "outputs": [
    {
     "name": "stdout",
     "output_type": "stream",
     "text": [
      "<class 'nibabel.nifti1.Nifti1Header'> object, endian='<'\n",
      "sizeof_hdr      : 348\n",
      "data_type       : b''\n",
      "db_name         : b''\n",
      "extents         : 0\n",
      "session_error   : 0\n",
      "regular         : b'r'\n",
      "dim_info        : 0\n",
      "dim             : [  3 240 320 320   1   1   1   1]\n",
      "intent_p1       : 0.0\n",
      "intent_p2       : 0.0\n",
      "intent_p3       : 0.0\n",
      "intent_code     : none\n",
      "datatype        : float32\n",
      "bitpix          : 32\n",
      "slice_start     : 0\n",
      "pixdim          : [1.  0.8 0.8 0.8 0.  0.  0.  0. ]\n",
      "vox_offset      : 0.0\n",
      "scl_slope       : nan\n",
      "scl_inter       : nan\n",
      "slice_end       : 0\n",
      "slice_code      : unknown\n",
      "xyzt_units      : 10\n",
      "cal_max         : 0.0\n",
      "cal_min         : 0.0\n",
      "slice_duration  : 0.0\n",
      "toffset         : 0.0\n",
      "glmax           : 0\n",
      "glmin           : 0\n",
      "descrip         : b'6.0.0'\n",
      "aux_file        : b''\n",
      "qform_code      : scanner\n",
      "sform_code      : unknown\n",
      "quatern_b       : -0.06856307\n",
      "quatern_c       : -0.015582562\n",
      "quatern_d       : -0.019387364\n",
      "qoffset_x       : -92.05724\n",
      "qoffset_y       : -107.88861\n",
      "qoffset_z       : -116.848816\n",
      "srow_x          : [  0.8       0.        0.      -92.05724]\n",
      "srow_y          : [   0.         0.8        0.      -107.88861]\n",
      "srow_z          : [   0.          0.          0.8      -116.848816]\n",
      "intent_name     : b''\n",
      "magic           : b'n+1'\n"
     ]
    }
   ],
   "source": [
    "img_header['srow_x'] = affine[0,:]\n",
    "img_header['srow_y'] = affine[1,:]\n",
    "img_header['srow_z'] = affine[2,:]\n",
    "\n",
    "print(img_header)"
   ]
  },
  {
   "cell_type": "code",
   "execution_count": 17,
   "metadata": {},
   "outputs": [],
   "source": [
    "updated_img = nib.Nifti1Image(img.get_fdata(), affine, img_header)"
   ]
  },
  {
   "cell_type": "code",
   "execution_count": 18,
   "metadata": {},
   "outputs": [],
   "source": [
    "nib.save(updated_img, 'sub-HC001_ses-01_acq-mp2rage_T1map_updated2.nii.gz')"
   ]
  },
  {
   "cell_type": "code",
   "execution_count": 20,
   "metadata": {},
   "outputs": [
    {
     "name": "stdout",
     "output_type": "stream",
     "text": [
      "<class 'nibabel.nifti1.Nifti1Header'> object, endian='<'\n",
      "sizeof_hdr      : 348\n",
      "data_type       : b''\n",
      "db_name         : b''\n",
      "extents         : 0\n",
      "session_error   : 0\n",
      "regular         : b'r'\n",
      "dim_info        : 0\n",
      "dim             : [  3 240 320 320   1   1   1   1]\n",
      "intent_p1       : 0.0\n",
      "intent_p2       : 0.0\n",
      "intent_p3       : 0.0\n",
      "intent_code     : none\n",
      "datatype        : float32\n",
      "bitpix          : 32\n",
      "slice_start     : 0\n",
      "pixdim          : [1.  0.8 0.8 0.8 0.  0.  0.  0. ]\n",
      "vox_offset      : 0.0\n",
      "scl_slope       : nan\n",
      "scl_inter       : nan\n",
      "slice_end       : 0\n",
      "slice_code      : unknown\n",
      "xyzt_units      : 10\n",
      "cal_max         : 0.0\n",
      "cal_min         : 0.0\n",
      "slice_duration  : 0.0\n",
      "toffset         : 0.0\n",
      "glmax           : 0\n",
      "glmin           : 0\n",
      "descrip         : b'6.0.0'\n",
      "aux_file        : b''\n",
      "qform_code      : unknown\n",
      "sform_code      : aligned\n",
      "quatern_b       : 0.0\n",
      "quatern_c       : 0.0\n",
      "quatern_d       : 0.0\n",
      "qoffset_x       : -92.05724\n",
      "qoffset_y       : -107.88861\n",
      "qoffset_z       : -116.848816\n",
      "srow_x          : [  0.8       0.        0.      -92.05724]\n",
      "srow_y          : [   0.         0.8        0.      -107.88861]\n",
      "srow_z          : [   0.          0.          0.8      -116.848816]\n",
      "intent_name     : b''\n",
      "magic           : b'n+1'\n"
     ]
    }
   ],
   "source": [
    "img_updated2 = nib.load('sub-HC001_ses-01_acq-mp2rage_T1map_updated2.nii.gz')\n",
    "\n",
    "print(img_updated2.header)"
   ]
  },
  {
   "cell_type": "code",
   "execution_count": 21,
   "metadata": {},
   "outputs": [],
   "source": [
    "sampled_img = img_updated2.slicer[::5,:,:]"
   ]
  },
  {
   "cell_type": "code",
   "execution_count": 22,
   "metadata": {},
   "outputs": [],
   "source": [
    "nib.save(sampled_img, 'sub-HC001_ses-01_acq-mp2rage_T1map_updated2_sampled.nii.gz')"
   ]
  },
  {
   "cell_type": "code",
   "execution_count": 23,
   "metadata": {},
   "outputs": [
    {
     "name": "stdout",
     "output_type": "stream",
     "text": [
      "<class 'nibabel.nifti1.Nifti1Header'> object, endian='<'\n",
      "sizeof_hdr      : 348\n",
      "data_type       : b''\n",
      "db_name         : b''\n",
      "extents         : 0\n",
      "session_error   : 0\n",
      "regular         : b'r'\n",
      "dim_info        : 0\n",
      "dim             : [  3  48 320 320   1   1   1   1]\n",
      "intent_p1       : 0.0\n",
      "intent_p2       : 0.0\n",
      "intent_p3       : 0.0\n",
      "intent_code     : none\n",
      "datatype        : float32\n",
      "bitpix          : 32\n",
      "slice_start     : 0\n",
      "pixdim          : [1.  4.  0.8 0.8 1.  1.  1.  1. ]\n",
      "vox_offset      : 0.0\n",
      "scl_slope       : nan\n",
      "scl_inter       : nan\n",
      "slice_end       : 0\n",
      "slice_code      : unknown\n",
      "xyzt_units      : 10\n",
      "cal_max         : 0.0\n",
      "cal_min         : 0.0\n",
      "slice_duration  : 0.0\n",
      "toffset         : 0.0\n",
      "glmax           : 0\n",
      "glmin           : 0\n",
      "descrip         : b'6.0.0'\n",
      "aux_file        : b''\n",
      "qform_code      : unknown\n",
      "sform_code      : aligned\n",
      "quatern_b       : 0.0\n",
      "quatern_c       : 0.0\n",
      "quatern_d       : 0.0\n",
      "qoffset_x       : -92.05724\n",
      "qoffset_y       : -107.88861\n",
      "qoffset_z       : -116.848816\n",
      "srow_x          : [  4.        0.        0.      -92.05724]\n",
      "srow_y          : [   0.         0.8        0.      -107.88861]\n",
      "srow_z          : [   0.          0.          0.8      -116.848816]\n",
      "intent_name     : b''\n",
      "magic           : b'n+1'\n"
     ]
    }
   ],
   "source": [
    "print(sampled_img.header)"
   ]
  },
  {
   "cell_type": "code",
   "execution_count": 24,
   "metadata": {},
   "outputs": [
    {
     "name": "stdout",
     "output_type": "stream",
     "text": [
      "<class 'nibabel.nifti1.Nifti1Header'> object, endian='<'\n",
      "sizeof_hdr      : 348\n",
      "data_type       : b''\n",
      "db_name         : b''\n",
      "extents         : 0\n",
      "session_error   : 0\n",
      "regular         : b'r'\n",
      "dim_info        : 0\n",
      "dim             : [  3 240 320 320   1   1   1   1]\n",
      "intent_p1       : 0.0\n",
      "intent_p2       : 0.0\n",
      "intent_p3       : 0.0\n",
      "intent_code     : none\n",
      "datatype        : float32\n",
      "bitpix          : 32\n",
      "slice_start     : 0\n",
      "pixdim          : [1.  0.8 0.8 0.8 0.  0.  0.  0. ]\n",
      "vox_offset      : 0.0\n",
      "scl_slope       : nan\n",
      "scl_inter       : nan\n",
      "slice_end       : 0\n",
      "slice_code      : unknown\n",
      "xyzt_units      : 10\n",
      "cal_max         : 0.0\n",
      "cal_min         : 0.0\n",
      "slice_duration  : 0.0\n",
      "toffset         : 0.0\n",
      "glmax           : 0\n",
      "glmin           : 0\n",
      "descrip         : b'6.0.0'\n",
      "aux_file        : b''\n",
      "qform_code      : unknown\n",
      "sform_code      : aligned\n",
      "quatern_b       : 0.0\n",
      "quatern_c       : 0.0\n",
      "quatern_d       : 0.0\n",
      "qoffset_x       : -92.05724\n",
      "qoffset_y       : -107.88861\n",
      "qoffset_z       : -116.848816\n",
      "srow_x          : [  0.8       0.        0.      -92.05724]\n",
      "srow_y          : [   0.         0.8        0.      -107.88861]\n",
      "srow_z          : [   0.          0.          0.8      -116.848816]\n",
      "intent_name     : b''\n",
      "magic           : b'n+1'\n"
     ]
    }
   ],
   "source": [
    "print(img_updated2.header)"
   ]
  },
  {
   "cell_type": "code",
   "execution_count": 26,
   "metadata": {},
   "outputs": [
    {
     "data": {
      "text/html": [
       "<table>\n",
       "<tbody>\n",
       "<tr><td>sizeof_hdr    </td><td>348                                                                               </td><td>348                                                                 </td></tr>\n",
       "<tr><td>data_type     </td><td>b&#x27;&#x27;                                                                               </td><td>b&#x27;&#x27;                                                                 </td></tr>\n",
       "<tr><td>db_name       </td><td>b&#x27;&#x27;                                                                               </td><td>b&#x27;&#x27;                                                                 </td></tr>\n",
       "<tr><td>extents       </td><td>0                                                                                 </td><td>0                                                                   </td></tr>\n",
       "<tr><td>session_error </td><td>0                                                                                 </td><td>0                                                                   </td></tr>\n",
       "<tr><td>regular       </td><td>b&#x27;r&#x27;                                                                              </td><td>b&#x27;r&#x27;                                                                </td></tr>\n",
       "<tr><td>dim_info      </td><td>0                                                                                 </td><td>0                                                                   </td></tr>\n",
       "<tr><td>dim           </td><td>[3, 240, 320, 320, 1, 1, 1, 1]                                                    </td><td>[3, 48, 320, 320, 1, 1, 1, 1]                                       </td></tr>\n",
       "<tr><td>intent_p1     </td><td>0.0                                                                               </td><td>0.0                                                                 </td></tr>\n",
       "<tr><td>intent_p2     </td><td>0.0                                                                               </td><td>0.0                                                                 </td></tr>\n",
       "<tr><td>intent_p3     </td><td>0.0                                                                               </td><td>0.0                                                                 </td></tr>\n",
       "<tr><td>intent_code   </td><td>0                                                                                 </td><td>0                                                                   </td></tr>\n",
       "<tr><td>datatype      </td><td>16                                                                                </td><td>16                                                                  </td></tr>\n",
       "<tr><td>bitpix        </td><td>32                                                                                </td><td>32                                                                  </td></tr>\n",
       "<tr><td>slice_start   </td><td>0                                                                                 </td><td>0                                                                   </td></tr>\n",
       "<tr><td>pixdim        </td><td>[1.0, 0.800000011920929, 0.800000011920929, 0.800000011920929, 0.0, 0.0, 0.0, 0.0]</td><td>[1.0, 4.0, 0.800000011920929, 0.800000011920929, 1.0, 1.0, 1.0, 1.0]</td></tr>\n",
       "<tr><td>vox_offset    </td><td>0.0                                                                               </td><td>0.0                                                                 </td></tr>\n",
       "<tr><td>scl_slope     </td><td>nan                                                                               </td><td>nan                                                                 </td></tr>\n",
       "<tr><td>scl_inter     </td><td>nan                                                                               </td><td>nan                                                                 </td></tr>\n",
       "<tr><td>slice_end     </td><td>0                                                                                 </td><td>0                                                                   </td></tr>\n",
       "<tr><td>slice_code    </td><td>0                                                                                 </td><td>0                                                                   </td></tr>\n",
       "<tr><td>xyzt_units    </td><td>10                                                                                </td><td>10                                                                  </td></tr>\n",
       "<tr><td>cal_max       </td><td>0.0                                                                               </td><td>0.0                                                                 </td></tr>\n",
       "<tr><td>cal_min       </td><td>0.0                                                                               </td><td>0.0                                                                 </td></tr>\n",
       "<tr><td>slice_duration</td><td>0.0                                                                               </td><td>0.0                                                                 </td></tr>\n",
       "<tr><td>toffset       </td><td>0.0                                                                               </td><td>0.0                                                                 </td></tr>\n",
       "<tr><td>glmax         </td><td>0                                                                                 </td><td>0                                                                   </td></tr>\n",
       "<tr><td>glmin         </td><td>0                                                                                 </td><td>0                                                                   </td></tr>\n",
       "<tr><td>descrip       </td><td>b&#x27;6.0.0&#x27;                                                                          </td><td>b&#x27;6.0.0&#x27;                                                            </td></tr>\n",
       "<tr><td>aux_file      </td><td>b&#x27;&#x27;                                                                               </td><td>b&#x27;&#x27;                                                                 </td></tr>\n",
       "<tr><td>qform_code    </td><td>0                                                                                 </td><td>0                                                                   </td></tr>\n",
       "<tr><td>sform_code    </td><td>2                                                                                 </td><td>2                                                                   </td></tr>\n",
       "<tr><td>quatern_b     </td><td>0.0                                                                               </td><td>0.0                                                                 </td></tr>\n",
       "<tr><td>quatern_c     </td><td>0.0                                                                               </td><td>0.0                                                                 </td></tr>\n",
       "<tr><td>quatern_d     </td><td>0.0                                                                               </td><td>0.0                                                                 </td></tr>\n",
       "<tr><td>qoffset_x     </td><td>-92.05724334716797                                                                </td><td>-92.05724334716797                                                  </td></tr>\n",
       "<tr><td>qoffset_y     </td><td>-107.88861083984375                                                               </td><td>-107.88861083984375                                                 </td></tr>\n",
       "<tr><td>qoffset_z     </td><td>-116.84881591796875                                                               </td><td>-116.84881591796875                                                 </td></tr>\n",
       "<tr><td>srow_x        </td><td>[0.800000011920929, 0.0, 0.0, -92.05724334716797]                                 </td><td>[4.0, 0.0, 0.0, -92.05724334716797]                                 </td></tr>\n",
       "<tr><td>srow_y        </td><td>[0.0, 0.800000011920929, 0.0, -107.88861083984375]                                </td><td>[0.0, 0.800000011920929, 0.0, -107.88861083984375]                  </td></tr>\n",
       "<tr><td>srow_z        </td><td>[0.0, 0.0, 0.800000011920929, -116.84881591796875]                                </td><td>[0.0, 0.0, 0.800000011920929, -116.84881591796875]                  </td></tr>\n",
       "<tr><td>intent_name   </td><td>b&#x27;&#x27;                                                                               </td><td>b&#x27;&#x27;                                                                 </td></tr>\n",
       "<tr><td>magic         </td><td>b&#x27;n+1&#x27;                                                                            </td><td>b&#x27;n+1&#x27;                                                              </td></tr>\n",
       "</tbody>\n",
       "</table>"
      ],
      "text/plain": [
       "'<table>\\n<tbody>\\n<tr><td>sizeof_hdr    </td><td>348                                                                               </td><td>348                                                                 </td></tr>\\n<tr><td>data_type     </td><td>b&#x27;&#x27;                                                                               </td><td>b&#x27;&#x27;                                                                 </td></tr>\\n<tr><td>db_name       </td><td>b&#x27;&#x27;                                                                               </td><td>b&#x27;&#x27;                                                                 </td></tr>\\n<tr><td>extents       </td><td>0                                                                                 </td><td>0                                                                   </td></tr>\\n<tr><td>session_error </td><td>0                                                                                 </td><td>0                                                                   </td></tr>\\n<tr><td>regular       </td><td>b&#x27;r&#x27;                                                                              </td><td>b&#x27;r&#x27;                                                                </td></tr>\\n<tr><td>dim_info      </td><td>0                                                                                 </td><td>0                                                                   </td></tr>\\n<tr><td>dim           </td><td>[3, 240, 320, 320, 1, 1, 1, 1]                                                    </td><td>[3, 48, 320, 320, 1, 1, 1, 1]                                       </td></tr>\\n<tr><td>intent_p1     </td><td>0.0                                                                               </td><td>0.0                                                                 </td></tr>\\n<tr><td>intent_p2     </td><td>0.0                                                                               </td><td>0.0                                                                 </td></tr>\\n<tr><td>intent_p3     </td><td>0.0                                                                               </td><td>0.0                                                                 </td></tr>\\n<tr><td>intent_code   </td><td>0                                                                                 </td><td>0                                                                   </td></tr>\\n<tr><td>datatype      </td><td>16                                                                                </td><td>16                                                                  </td></tr>\\n<tr><td>bitpix        </td><td>32                                                                                </td><td>32                                                                  </td></tr>\\n<tr><td>slice_start   </td><td>0                                                                                 </td><td>0                                                                   </td></tr>\\n<tr><td>pixdim        </td><td>[1.0, 0.800000011920929, 0.800000011920929, 0.800000011920929, 0.0, 0.0, 0.0, 0.0]</td><td>[1.0, 4.0, 0.800000011920929, 0.800000011920929, 1.0, 1.0, 1.0, 1.0]</td></tr>\\n<tr><td>vox_offset    </td><td>0.0                                                                               </td><td>0.0                                                                 </td></tr>\\n<tr><td>scl_slope     </td><td>nan                                                                               </td><td>nan                                                                 </td></tr>\\n<tr><td>scl_inter     </td><td>nan                                                                               </td><td>nan                                                                 </td></tr>\\n<tr><td>slice_end     </td><td>0                                                                                 </td><td>0                                                                   </td></tr>\\n<tr><td>slice_code    </td><td>0                                                                                 </td><td>0                                                                   </td></tr>\\n<tr><td>xyzt_units    </td><td>10                                                                                </td><td>10                                                                  </td></tr>\\n<tr><td>cal_max       </td><td>0.0                                                                               </td><td>0.0                                                                 </td></tr>\\n<tr><td>cal_min       </td><td>0.0                                                                               </td><td>0.0                                                                 </td></tr>\\n<tr><td>slice_duration</td><td>0.0                                                                               </td><td>0.0                                                                 </td></tr>\\n<tr><td>toffset       </td><td>0.0                                                                               </td><td>0.0                                                                 </td></tr>\\n<tr><td>glmax         </td><td>0                                                                                 </td><td>0                                                                   </td></tr>\\n<tr><td>glmin         </td><td>0                                                                                 </td><td>0                                                                   </td></tr>\\n<tr><td>descrip       </td><td>b&#x27;6.0.0&#x27;                                                                          </td><td>b&#x27;6.0.0&#x27;                                                            </td></tr>\\n<tr><td>aux_file      </td><td>b&#x27;&#x27;                                                                               </td><td>b&#x27;&#x27;                                                                 </td></tr>\\n<tr><td>qform_code    </td><td>0                                                                                 </td><td>0                                                                   </td></tr>\\n<tr><td>sform_code    </td><td>2                                                                                 </td><td>2                                                                   </td></tr>\\n<tr><td>quatern_b     </td><td>0.0                                                                               </td><td>0.0                                                                 </td></tr>\\n<tr><td>quatern_c     </td><td>0.0                                                                               </td><td>0.0                                                                 </td></tr>\\n<tr><td>quatern_d     </td><td>0.0                                                                               </td><td>0.0                                                                 </td></tr>\\n<tr><td>qoffset_x     </td><td>-92.05724334716797                                                                </td><td>-92.05724334716797                                                  </td></tr>\\n<tr><td>qoffset_y     </td><td>-107.88861083984375                                                               </td><td>-107.88861083984375                                                 </td></tr>\\n<tr><td>qoffset_z     </td><td>-116.84881591796875                                                               </td><td>-116.84881591796875                                                 </td></tr>\\n<tr><td>srow_x        </td><td>[0.800000011920929, 0.0, 0.0, -92.05724334716797]                                 </td><td>[4.0, 0.0, 0.0, -92.05724334716797]                                 </td></tr>\\n<tr><td>srow_y        </td><td>[0.0, 0.800000011920929, 0.0, -107.88861083984375]                                </td><td>[0.0, 0.800000011920929, 0.0, -107.88861083984375]                  </td></tr>\\n<tr><td>srow_z        </td><td>[0.0, 0.0, 0.800000011920929, -116.84881591796875]                                </td><td>[0.0, 0.0, 0.800000011920929, -116.84881591796875]                  </td></tr>\\n<tr><td>intent_name   </td><td>b&#x27;&#x27;                                                                               </td><td>b&#x27;&#x27;                                                                 </td></tr>\\n<tr><td>magic         </td><td>b&#x27;n+1&#x27;                                                                            </td><td>b&#x27;n+1&#x27;                                                              </td></tr>\\n</tbody>\\n</table>'"
      ]
     },
     "execution_count": 26,
     "metadata": {},
     "output_type": "execute_result"
    }
   ],
   "source": [
    "import tabulate\n",
    "\n",
    "header_original = img_updated2.header.structarr\n",
    "header_sampled = sampled_img.header.structarr\n",
    "\n",
    "header_params = img.header.keys()\n",
    "\n",
    "compare = []\n",
    "for param in header_params:\n",
    "    compare.append([param, header_original[param].tolist(), header_sampled[param].tolist()])\n",
    "\n",
    "table = tabulate.tabulate(compare, tablefmt='html')\n",
    "\n",
    "table"
   ]
  },
  {
   "cell_type": "code",
   "execution_count": 27,
   "metadata": {},
   "outputs": [],
   "source": [
    "import nibabel\n",
    "\n",
    "def downsample_by_slicing(input_file=\"\", output_file=\"\", slice_interval=1):\n",
    "    # Load the high-resolution NIfTI image\n",
    "    img = nibabel.load(input_file)\n",
    "    data = img.get_fdata()\n",
    "    affine = img.affine\n",
    "    header = img.header\n",
    "\n",
    "    # Select every nth slice in the z-dimension\n",
    "    downsampled_data = data[::slice_interval, :, :]\n",
    "\n",
    "    # Adjust the affine transformation matrix to reflect the new slice spacing\n",
    "    new_affine = affine.copy()\n",
    "    new_affine[0, 0] *= slice_interval  # update the z-spacing\n",
    "\n",
    "    # Create a new NIfTI image\n",
    "    new_header = header.copy()\n",
    "    new_zooms = list(header.get_zooms())\n",
    "    new_zooms[0] *= slice_interval  # update the z-spacing\n",
    "    new_header.set_zooms(new_zooms)\n",
    "\n",
    "    downsampled_img = nibabel.Nifti1Image(downsampled_data, affine=new_affine, header=new_header)\n",
    "\n",
    "    # Save the downsampled image\n",
    "    nibabel.save(downsampled_img, output_file)\n",
    "\n",
    "# base_path = \"C:/Users/mnwoki/Downloads/Convert nii Zip/Convert nii\"\n",
    "# abs_mri_high_res_img_path = os.path.join(base_path, \"updated-sub-HC001_ses-01_acq-inv1_T1map.nii.gz\")\n",
    "# abs_mri_low_res_img_path = os.path.join(base_path, \"low-updated-res-sub-HC001_ses-01_acq-inv1_T1map.nii.gz\")\n",
    "\n",
    "# downsample_by_slicing(input_file=abs_mri_high_res_img_path, output_file=abs_mri_low_res_img_path, slice_interval=5)\n",
    "\n",
    "downsample_by_slicing(input_file='sub-HC001_ses-01_acq-mp2rage_T1map_updated2.nii.gz', output_file='sub-HC001_ses-01_acq-mp2rage_T1map_updated2_sampled_manually.nii.gz', slice_interval=5)\n"
   ]
  }
 ],
 "metadata": {
  "kernelspec": {
   "display_name": "Python 3",
   "language": "python",
   "name": "python3"
  },
  "language_info": {
   "codemirror_mode": {
    "name": "ipython",
    "version": 3
   },
   "file_extension": ".py",
   "mimetype": "text/x-python",
   "name": "python",
   "nbconvert_exporter": "python",
   "pygments_lexer": "ipython3",
   "version": "3.12.4"
  }
 },
 "nbformat": 4,
 "nbformat_minor": 2
}
